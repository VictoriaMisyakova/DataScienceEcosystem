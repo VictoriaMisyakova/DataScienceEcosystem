{
 "cells": [
  {
   "cell_type": "markdown",
   "id": "ead8255d",
   "metadata": {},
   "source": [
    "**Exercise 1**: Create a Jupyter Notebook \\\n",
    "**Name:** DataScienceEcosystem"
   ]
  },
  {
   "cell_type": "markdown",
   "id": "ec4e125b",
   "metadata": {},
   "source": [
    "**Exercise 2**: Create markdown cell with title of the notebook using H1 style heading"
   ]
  },
  {
   "cell_type": "markdown",
   "id": "6c3a0d47",
   "metadata": {},
   "source": [
    "# Data Science Tools and Ecosystem"
   ]
  },
  {
   "cell_type": "markdown",
   "id": "b0fa3624",
   "metadata": {},
   "source": [
    "**Exercise 3:** Create a markdown cell for an introduction"
   ]
  },
  {
   "cell_type": "markdown",
   "id": "0052a911",
   "metadata": {},
   "source": [
    "In this notebook, Data Science Tools and Ecosystem are summarized."
   ]
  },
  {
   "cell_type": "markdown",
   "id": "2a23069d",
   "metadata": {},
   "source": [
    "**Exercise 10:** Insert a markdown cell to list Objectives using an unordered list"
   ]
  },
  {
   "cell_type": "markdown",
   "id": "ebe31909",
   "metadata": {},
   "source": [
    "**Objectives:**\n",
    "* List popular languages for Data Science;\n",
    "* List commonly used libraries for Data Science;\n",
    "* Development environment open source tools used in data science;\n",
    "* Examples of evaluating arithmetic expressions in Python."
   ]
  },
  {
   "cell_type": "markdown",
   "id": "e501e688",
   "metadata": {},
   "source": [
    "**Exercise 4:** Create a markdown cell to list data science languages using a numbered list"
   ]
  },
  {
   "cell_type": "markdown",
   "id": "f0a93c78",
   "metadata": {},
   "source": [
    "Some of the popular languages that Data Scientists use are:\n",
    "1. Python;\n",
    "2. R;\n",
    "3. SQl;\n",
    "4. Scala;\n",
    "5. Java;\n",
    "6. C++;\n",
    "7. Julia."
   ]
  },
  {
   "cell_type": "markdown",
   "id": "3a7077ec",
   "metadata": {},
   "source": [
    "**Exercise 5:** Create a markdown cell to list data science libraries using a numbered list"
   ]
  },
  {
   "cell_type": "markdown",
   "id": "c1aefb20",
   "metadata": {},
   "source": [
    "Some of the commonly used libraries used by Data Scientists include:\n",
    "1. Pandas;\n",
    "2. NumPy;\n",
    "3. SciPy;\n",
    "4. Matplotlib;\n",
    "5. Seaborn;\n",
    "6. Scikit-Learn;\n",
    "7. Keras."
   ]
  },
  {
   "cell_type": "markdown",
   "id": "34e9edf2",
   "metadata": {},
   "source": [
    "**Exercise 6:** Create a markdown cell with a table of Data Science tools"
   ]
  },
  {
   "cell_type": "markdown",
   "id": "e457bc6d",
   "metadata": {},
   "source": [
    "| Data Science Tools |\n",
    "| :----------------------------: |\n",
    "| Weka |\n",
    "| Spark |\n",
    "| TensorFlow |"
   ]
  },
  {
   "cell_type": "markdown",
   "id": "b9430774",
   "metadata": {},
   "source": [
    "**Exercise 7:** Create a markdown cell introducing arithmetic expression examples using H3 style heading"
   ]
  },
  {
   "cell_type": "markdown",
   "id": "6d58b5f8",
   "metadata": {},
   "source": [
    "### Below are a few examples of evaluating arithmetic expressions in Python"
   ]
  },
  {
   "cell_type": "markdown",
   "id": "ad4d6c3b",
   "metadata": {},
   "source": [
    "**Exercise 8:** Create a code cell to multiply and add numbers"
   ]
  },
  {
   "cell_type": "code",
   "execution_count": 9,
   "id": "224d1ef5",
   "metadata": {},
   "outputs": [
    {
     "data": {
      "text/plain": [
       "17"
      ]
     },
     "execution_count": 9,
     "metadata": {},
     "output_type": "execute_result"
    }
   ],
   "source": [
    "# This a simple arithmetic expression to mutiply then add integers\n",
    "(3*4)+5"
   ]
  },
  {
   "cell_type": "markdown",
   "id": "23c92f88",
   "metadata": {},
   "source": [
    "**Exercise 9:** Create a code cell to convert minutes to hours"
   ]
  },
  {
   "cell_type": "code",
   "execution_count": 10,
   "id": "bde1ba2d",
   "metadata": {},
   "outputs": [
    {
     "name": "stdout",
     "output_type": "stream",
     "text": [
      "3 hours 20 minutes\n"
     ]
    }
   ],
   "source": [
    "# This will convert 200 minutes to hours by diving by 60\n",
    "h = 200//60\n",
    "print(h, \"hours\", 200-h*60, \"minutes\")"
   ]
  },
  {
   "cell_type": "markdown",
   "id": "992c4fbf",
   "metadata": {},
   "source": [
    "**Exercise 11:** Create a markdown cell to indicate the Author's name"
   ]
  },
  {
   "cell_type": "markdown",
   "id": "e0a84f10",
   "metadata": {},
   "source": [
    "## Author\n",
    "Victoria Misyakova"
   ]
  }
 ],
 "metadata": {
  "kernelspec": {
   "display_name": "Python 3 (ipykernel)",
   "language": "python",
   "name": "python3"
  },
  "language_info": {
   "codemirror_mode": {
    "name": "ipython",
    "version": 3
   },
   "file_extension": ".py",
   "mimetype": "text/x-python",
   "name": "python",
   "nbconvert_exporter": "python",
   "pygments_lexer": "ipython3",
   "version": "3.11.5"
  }
 },
 "nbformat": 4,
 "nbformat_minor": 5
}
